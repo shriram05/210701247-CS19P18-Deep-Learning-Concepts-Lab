{
  "nbformat": 4,
  "nbformat_minor": 0,
  "metadata": {
    "colab": {
      "provenance": []
    },
    "kernelspec": {
      "name": "python3",
      "display_name": "Python 3"
    },
    "language_info": {
      "name": "python"
    }
  },
  "cells": [
    {
      "cell_type": "code",
      "execution_count": null,
      "metadata": {
        "id": "KTRctj9j_YiZ"
      },
      "outputs": [],
      "source": [
        "import numpy as np\n",
        "x = np.array([[1,0,1],[0,0,1],[1,1,0],[0,1,0]])\n",
        "y = np.array([[0],[0],[1],[1]])\n",
        "np.random.seed(2)"
      ]
    },
    {
      "cell_type": "code",
      "source": [
        "wt = np.random.random((3,1))\n",
        "wt"
      ],
      "metadata": {
        "colab": {
          "base_uri": "https://localhost:8080/"
        },
        "id": "CuXUQkES_5-v",
        "outputId": "7b83368a-2050-4ecc-fd24-8cd5d8c5e5d0"
      },
      "execution_count": null,
      "outputs": [
        {
          "output_type": "execute_result",
          "data": {
            "text/plain": [
              "array([[0.4359949 ],\n",
              "       [0.02592623],\n",
              "       [0.54966248]])"
            ]
          },
          "metadata": {},
          "execution_count": 3
        }
      ]
    },
    {
      "cell_type": "code",
      "source": [
        "sum = np.dot(x, wt) + 0.02\n",
        "sum"
      ],
      "metadata": {
        "colab": {
          "base_uri": "https://localhost:8080/"
        },
        "id": "75XoL4sq__xu",
        "outputId": "16d8484d-1d70-4058-c569-e04fbea08a12"
      },
      "execution_count": null,
      "outputs": [
        {
          "output_type": "execute_result",
          "data": {
            "text/plain": [
              "array([[1.00565738],\n",
              "       [0.56966248],\n",
              "       [0.48192113],\n",
              "       [0.04592623]])"
            ]
          },
          "metadata": {},
          "execution_count": 5
        }
      ]
    },
    {
      "cell_type": "code",
      "source": [
        "def tf(a):\n",
        "  return 1/(1+np.exp(-a))"
      ],
      "metadata": {
        "id": "5daRxBveAEEQ"
      },
      "execution_count": null,
      "outputs": []
    },
    {
      "cell_type": "code",
      "source": [
        "tf(3)"
      ],
      "metadata": {
        "colab": {
          "base_uri": "https://localhost:8080/"
        },
        "id": "MsBrO567AM9Y",
        "outputId": "1aa5dfa6-fc5a-48db-9642-9742dc9cb7fa"
      },
      "execution_count": null,
      "outputs": [
        {
          "output_type": "execute_result",
          "data": {
            "text/plain": [
              "0.9525741268224334"
            ]
          },
          "metadata": {},
          "execution_count": 7
        }
      ]
    },
    {
      "cell_type": "code",
      "source": [
        "yp = tf(sum)\n",
        "yp"
      ],
      "metadata": {
        "colab": {
          "base_uri": "https://localhost:8080/"
        },
        "id": "dtP1wbgrAPRo",
        "outputId": "db88bad1-ca47-4a75-b604-6d14e63b02c9"
      },
      "execution_count": null,
      "outputs": [
        {
          "output_type": "execute_result",
          "data": {
            "text/plain": [
              "array([[0.73216943],\n",
              "       [0.63868529],\n",
              "       [0.61820142],\n",
              "       [0.51147954]])"
            ]
          },
          "metadata": {},
          "execution_count": 8
        }
      ]
    },
    {
      "cell_type": "code",
      "source": [
        "yp.round()"
      ],
      "metadata": {
        "colab": {
          "base_uri": "https://localhost:8080/"
        },
        "id": "RQEnayvdAUfR",
        "outputId": "56629141-2460-4bda-e965-7b0aa88bd003"
      },
      "execution_count": null,
      "outputs": [
        {
          "output_type": "execute_result",
          "data": {
            "text/plain": [
              "array([[1.],\n",
              "       [1.],\n",
              "       [1.],\n",
              "       [1.]])"
            ]
          },
          "metadata": {},
          "execution_count": 9
        }
      ]
    },
    {
      "cell_type": "code",
      "source": [
        "e = y - yp"
      ],
      "metadata": {
        "id": "MvCeiEVlAWmQ"
      },
      "execution_count": null,
      "outputs": []
    },
    {
      "cell_type": "code",
      "source": [
        "e"
      ],
      "metadata": {
        "colab": {
          "base_uri": "https://localhost:8080/"
        },
        "id": "A63tvv94AZXg",
        "outputId": "68a607c9-11fb-480b-a931-cd559d34286a"
      },
      "execution_count": null,
      "outputs": [
        {
          "output_type": "execute_result",
          "data": {
            "text/plain": [
              "array([[-0.73216943],\n",
              "       [-0.63868529],\n",
              "       [ 0.38179858],\n",
              "       [ 0.48852046]])"
            ]
          },
          "metadata": {},
          "execution_count": 11
        }
      ]
    },
    {
      "cell_type": "code",
      "source": [
        "def gr(a,b):\n",
        "  return a*(b*(1-b))\n",
        "cw = gr(e,yp)\n",
        "w = wt + np.dot(x.T, cw)\n",
        "w"
      ],
      "metadata": {
        "colab": {
          "base_uri": "https://localhost:8080/"
        },
        "id": "pbwhe4p5AhNf",
        "outputId": "a0223b96-88b3-47a4-a47d-e897ccb52eab"
      },
      "execution_count": null,
      "outputs": [
        {
          "output_type": "execute_result",
          "data": {
            "text/plain": [
              "array([[0.38253373],\n",
              "       [0.23810729],\n",
              "       [0.25869889]])"
            ]
          },
          "metadata": {},
          "execution_count": 14
        }
      ]
    },
    {
      "cell_type": "code",
      "source": [
        "for i in range(500):\n",
        "  sum = np.dot(x, wt) + 0.02\n",
        "  yp = tf(sum)\n",
        "  e = y-yp\n",
        "  cw = gr(e,yp)\n",
        "  wt = wt+np.dot(x.T, cw)"
      ],
      "metadata": {
        "id": "dxSLWt4mA48C"
      },
      "execution_count": null,
      "outputs": []
    },
    {
      "cell_type": "code",
      "source": [
        "print(\"Error\",e)\n",
        "print(\"ypred\",yp)"
      ],
      "metadata": {
        "colab": {
          "base_uri": "https://localhost:8080/"
        },
        "id": "nGMDf2_BBNkx",
        "outputId": "9769e793-6d33-4d26-d32d-926e94fd84dd"
      },
      "execution_count": null,
      "outputs": [
        {
          "output_type": "stream",
          "name": "stdout",
          "text": [
            "Error [[-0.02344894]\n",
            " [-0.02342859]\n",
            " [ 0.02343527]\n",
            " [ 0.02345562]]\n",
            "ypred [[0.02344894]\n",
            " [0.02342859]\n",
            " [0.97656473]\n",
            " [0.97654438]]\n"
          ]
        }
      ]
    },
    {
      "cell_type": "code",
      "source": [
        "yp.round()\n",
        "x.T.shape"
      ],
      "metadata": {
        "colab": {
          "base_uri": "https://localhost:8080/"
        },
        "id": "4bQwFK-oBTxh",
        "outputId": "5413b2d6-6b9e-4d31-905c-982308516af8"
      },
      "execution_count": null,
      "outputs": [
        {
          "output_type": "execute_result",
          "data": {
            "text/plain": [
              "(3, 4)"
            ]
          },
          "metadata": {},
          "execution_count": 17
        }
      ]
    },
    {
      "cell_type": "code",
      "source": [
        "new_x = np.array([0,1,1])\n",
        "sum_new = np.dot(new_x, wt)+0.02\n",
        "ypred_new = tf(sum_new)\n",
        "ypred_new"
      ],
      "metadata": {
        "colab": {
          "base_uri": "https://localhost:8080/"
        },
        "id": "h18n3v6xBXtp",
        "outputId": "cb909bc4-22e6-49e4-c592-80392248fb7f"
      },
      "execution_count": null,
      "outputs": [
        {
          "output_type": "execute_result",
          "data": {
            "text/plain": [
              "array([0.49470516])"
            ]
          },
          "metadata": {},
          "execution_count": 18
        }
      ]
    }
  ]
}